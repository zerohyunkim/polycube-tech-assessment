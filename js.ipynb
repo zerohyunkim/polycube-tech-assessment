{
 "cells": [
  {
   "cell_type": "markdown",
   "metadata": {},
   "source": [
    "# Vanilla JS\n",
    "\n",
    "## [구조 분해 할당](https://developer.mozilla.org/en-US/docs/Web/JavaScript/Reference/Operators/Destructuring_assignment)\n",
    "\n",
    "**구조 분해 할당(destructuring assignment)** 은 배열의 값 또는 객체 속성을 개별 변수에 할당해주는 문법이다."
   ]
  },
  {
   "cell_type": "markdown",
   "metadata": {},
   "source": [
    "### 배열 구조 분해 할당"
   ]
  },
  {
   "cell_type": "code",
   "execution_count": 16,
   "metadata": {},
   "outputs": [
    {
     "name": "stdout",
     "output_type": "stream",
     "text": [
      "1 3 [ 4, 5 ]\n"
     ]
    }
   ],
   "source": [
    "const [a, , b, ...rest] = [1, 2, 3, 4, 5]\n",
    "\n",
    "console.log(a, b, rest)"
   ]
  },
  {
   "cell_type": "code",
   "execution_count": 18,
   "metadata": {},
   "outputs": [
    {
     "name": "stdout",
     "output_type": "stream",
     "text": [
      "1 2 world\n"
     ]
    }
   ],
   "source": [
    "const [a, b = \"hello\", c = \"world\"] = [1, 2]\n",
    "\n",
    "console.log(a, b, c)"
   ]
  },
  {
   "cell_type": "code",
   "execution_count": 21,
   "metadata": {},
   "outputs": [
    {
     "name": "stdout",
     "output_type": "stream",
     "text": [
      "10 20 { c: 30, d: 40 }\n"
     ]
    }
   ],
   "source": [
    "const { a, b: { e }, ...rest } = { a: 10, b: { e: 20 }, c: 30, d: 40 }\n",
    "\n",
    "console.log(a, e, rest)"
   ]
  },
  {
   "cell_type": "markdown",
   "metadata": {},
   "source": [
    "## 배열\n",
    "\n",
    "빈 배열에\n",
    "\n",
    "1. `push(\"a\")`\n",
    "2. `shift()`\n",
    "3. `unshift(\"e\")`\n",
    "\n",
    "일련의 과정을 거치면 배열에는 `[\"a\"]`가 남게 된다.\n"
   ]
  },
  {
   "cell_type": "code",
   "execution_count": 29,
   "metadata": {},
   "outputs": [
    {
     "data": {
      "text/plain": [
       "[ \u001b[32m\"a\"\u001b[39m ]"
      ]
     },
     "execution_count": 29,
     "metadata": {},
     "output_type": "execute_result"
    },
    {
     "name": "stdout",
     "output_type": "stream",
     "text": [
      "arr.push(\"a\"): [ \"a\" ]\n",
      "arr.shift(): []\n",
      "arr.unshift(\"a\"): [ \"a\" ]\n"
     ]
    }
   ],
   "source": [
    "const arr: string[] = []\n",
    "\n",
    "arr.push(\"a\")\n",
    "console.log(`arr.push(\"a\"):`, arr)\n",
    "\n",
    "arr.shift()\n",
    "console.log(`arr.shift():`, arr)\n",
    "\n",
    "arr.unshift(\"a\")\n",
    "console.log(`arr.unshift(\"a\"):`, arr)\n",
    "\n",
    "arr"
   ]
  },
  {
   "cell_type": "markdown",
   "metadata": {},
   "source": [
    "\n",
    "### [Array.prototype.push()](https://developer.mozilla.org/en-US/docs/Web/JavaScript/Reference/Global_Objects/Array/push)\n",
    "\n",
    "- 배열을 수정한다.\n",
    "- 배열의 맨 끝에 `N`개의 요소를 추가한 뒤, 배열의 길이를 반환한다.\n",
    "\n",
    "### [Array.prototype.shift()](https://developer.mozilla.org/en-US/docs/Web/JavaScript/Reference/Global_Objects/Array/shift)\n",
    "\n",
    "- 배열을 수정한다.\n",
    "- 배열의 첫 원소를 제거하고 제거한 원소를 반환한다.\n",
    "- 배열이 비어있다면 `undefined`를 반환한다.\n",
    "\n",
    "### [Array.prototype.unshift()](https://developer.mozilla.org/en-US/docs/Web/JavaScript/Reference/Global_Objects/Array/unshift)\n",
    "\n",
    "- 배열을 수정한다.\n",
    "- 배열의 맨 앞에 `N`개의 요소를 한꺼번에 추가한 뒤, 배열의 길이를 반환한다.\n"
   ]
  }
 ],
 "metadata": {
  "kernelspec": {
   "display_name": "Deno",
   "language": "typescript",
   "name": "deno"
  },
  "language_info": {
   "file_extension": ".ts",
   "mimetype": "text/x.typescript",
   "name": "typescript",
   "nb_converter": "script",
   "pygments_lexer": "typescript",
   "version": "5.2.2"
  },
  "orig_nbformat": 4
 },
 "nbformat": 4,
 "nbformat_minor": 2
}
