{
 "cells": [
  {
   "cell_type": "markdown",
   "metadata": {},
   "source": [
    "# Vanilla JS\n",
    "\n",
    "## [구조 분해 할당](https://developer.mozilla.org/en-US/docs/Web/JavaScript/Reference/Operators/Destructuring_assignment)\n",
    "\n",
    "**구조 분해 할당(destructuring assignment)** 은 배열의 값 또는 객체 속성을 개별 변수에 할당해주는 문법이다."
   ]
  },
  {
   "cell_type": "markdown",
   "metadata": {},
   "source": [
    "### 배열 구조 분해 할당"
   ]
  },
  {
   "cell_type": "code",
   "execution_count": 48,
   "metadata": {},
   "outputs": [
    {
     "name": "stdout",
     "output_type": "stream",
     "text": [
      "1 3 [ 4, 5 ]\n"
     ]
    }
   ],
   "source": [
    "const [a, , b, ...rest] = [1, 2, 3, 4, 5]\n",
    "\n",
    "console.log(a, b, rest)"
   ]
  },
  {
   "cell_type": "code",
   "execution_count": 49,
   "metadata": {},
   "outputs": [
    {
     "name": "stdout",
     "output_type": "stream",
     "text": [
      "1 2 world\n"
     ]
    }
   ],
   "source": [
    "const [a, b = \"hello\", c = \"world\"] = [1, 2]\n",
    "\n",
    "console.log(a, b, c)"
   ]
  },
  {
   "cell_type": "code",
   "execution_count": 50,
   "metadata": {},
   "outputs": [
    {
     "name": "stdout",
     "output_type": "stream",
     "text": [
      "10 20 { c: 30, d: 40 }\n"
     ]
    }
   ],
   "source": [
    "const { a, b: { e }, ...rest } = { a: 10, b: { e: 20 }, c: 30, d: 40 }\n",
    "\n",
    "console.log(a, e, rest)"
   ]
  },
  {
   "cell_type": "markdown",
   "metadata": {},
   "source": [
    "## Optional Chaining `.?`\n",
    "\n",
    "중첩 객체에 접근할 시 접근하려는 필드가 `nullish` (null 또는 undefined)하다면 필드의 경우에는 `undefined`, 함수의 경우에는 `TypeError`가 발생한다. 이를 방지하기 위해서는 여러 if-else 또는 삼항 연산자를 사용해야 하는데, 이런 불편함을 줄이기 위해 사용한다.\n",
    "\n",
    "Optional Chaning을 사용하면 객체의 존재하지 않는 속성, 함수 호출, 인덱싱을 시도할 시 오류가 발생하는 대신 그 자리에서 `undefined`를 반환한다."
   ]
  },
  {
   "cell_type": "code",
   "execution_count": 51,
   "metadata": {},
   "outputs": [
    {
     "name": "stdout",
     "output_type": "stream",
     "text": [
      "undefined\n",
      "TypeError: obj.b is not a function\n",
      "    at <anonymous>:9:7\n",
      "TypeError: Cannot read properties of undefined (reading '3')\n",
      "    at <anonymous>:15:8\n"
     ]
    }
   ],
   "source": [
    "const obj = { a: 1 }\n",
    "\n",
    "// @ts-expect-error: Property 'b' does not exist on type '{ a: number; }'.\n",
    "console.log(obj.b)\n",
    "\n",
    "try {\n",
    "    // @ts-expect-error: obj.b is not a function\n",
    "    obj.b()\n",
    "} catch (e) {\n",
    "    console.log(e)\n",
    "}\n",
    "\n",
    "try{\n",
    "    // @ts-expect-error: Cannot read properties of undefined (reading '3')\n",
    "    obj.b[3]\n",
    "} catch (e) {\n",
    "    console.log(e)\n",
    "}"
   ]
  },
  {
   "cell_type": "markdown",
   "metadata": {},
   "source": [
    "### [하위 호환성](https://caniuse.com/?search=Optional chaining)\n",
    "\n",
    "Optional Chaining을 사용하지 못하는 환경에서는 다음을 만족하도록 고쳐 사용해야 한다 [값이 `null`인 경우와 `undefined`인 경우만](https://tc39.es/ecma262/multipage/ecmascript-language-expressions.html#sec-optional-chains) 이후 표현식을 실행하지 않고(short-circuit) `undefined`를 반환하게 고쳐 사용해야 한다."
   ]
  },
  {
   "cell_type": "code",
   "execution_count": 52,
   "metadata": {},
   "outputs": [
    {
     "name": "stdout",
     "output_type": "stream",
     "text": [
      "undefined\n",
      "undefined\n",
      "undefined\n"
     ]
    }
   ],
   "source": [
    "const obj = { a: 1 }\n",
    "\n",
    "// @ts-expect-error: Property 'b' does not exist on type '{ a: number; }'.\n",
    "const legacyProperty = (obj === null || obj === undefined) || (obj.b === null || obj.b === undefined) ? undefined : obj.b.c\n",
    "console.log(legacyProperty)\n",
    "\n",
    "// @ts-expect-error: Property 'b' does not exist on type '{ a: number; }'.\n",
    "const legacyFunctionCall = (obj === null || obj === undefined) || (obj.b === null || obj.b === undefined) ? undefined : obj.b()\n",
    "console.log(legacyFunctionCall)\n",
    "\n",
    "// @ts-expect-error: Property 'b' does not exist on type '{ a: number; }'.\n",
    "const legacyArraySubscription = (obj === null || obj === undefined) || (obj.b === null || obj.b === undefined) ? undefined : obj.b[3]\n",
    "console.log(legacyArraySubscription)"
   ]
  },
  {
   "cell_type": "markdown",
   "metadata": {},
   "source": [
    "## 배열\n",
    "\n",
    "빈 배열에 다음 일련의 과정을 거치면 \n",
    "\n",
    "1. `push(\"a\")`\n",
    "2. `shift()`\n",
    "3. `unshift(\"e\")`\n",
    "\n",
    "배열에는 `[\"a\"]`가 남게 된다.\n"
   ]
  },
  {
   "cell_type": "code",
   "execution_count": 53,
   "metadata": {},
   "outputs": [
    {
     "data": {
      "text/plain": [
       "[ \u001b[32m\"a\"\u001b[39m ]"
      ]
     },
     "execution_count": 53,
     "metadata": {},
     "output_type": "execute_result"
    },
    {
     "name": "stdout",
     "output_type": "stream",
     "text": [
      "arr.push(\"a\"): [ \"a\" ]\n",
      "arr.shift(): []\n",
      "arr.unshift(\"a\"): [ \"a\" ]\n"
     ]
    }
   ],
   "source": [
    "const arr: string[] = []\n",
    "\n",
    "arr.push(\"a\")\n",
    "console.log(`arr.push(\"a\"):`, arr)\n",
    "\n",
    "arr.shift()\n",
    "console.log(`arr.shift():`, arr)\n",
    "\n",
    "arr.unshift(\"a\")\n",
    "console.log(`arr.unshift(\"a\"):`, arr)\n",
    "\n",
    "arr"
   ]
  },
  {
   "cell_type": "markdown",
   "metadata": {},
   "source": [
    "\n",
    "### [Array.prototype.push()](https://developer.mozilla.org/en-US/docs/Web/JavaScript/Reference/Global_Objects/Array/push)\n",
    "\n",
    "- 배열을 수정한다.\n",
    "- 배열의 맨 끝에 `N`개의 요소를 추가한 뒤, 배열의 길이를 반환한다.\n",
    "\n",
    "### [Array.prototype.shift()](https://developer.mozilla.org/en-US/docs/Web/JavaScript/Reference/Global_Objects/Array/shift)\n",
    "\n",
    "- 배열을 수정한다.\n",
    "- 배열의 첫 원소를 제거하고 제거한 원소를 반환한다.\n",
    "- 배열이 비어있다면 `undefined`를 반환한다.\n",
    "\n",
    "### [Array.prototype.unshift()](https://developer.mozilla.org/en-US/docs/Web/JavaScript/Reference/Global_Objects/Array/unshift)\n",
    "\n",
    "- 배열을 수정한다.\n",
    "- 배열의 맨 앞에 `N`개의 요소를 한꺼번에 추가한 뒤, 배열의 길이를 반환한다.\n"
   ]
  },
  {
   "cell_type": "markdown",
   "metadata": {},
   "source": [
    "## [Promise](https://developer.mozilla.org/en-US/docs/Web/JavaScript/Reference/Global_Objects/Promise)\n",
    "\n",
    "미래에 완료될 작업을 나타내는 객체이다. 세 가지 상태를 가진다.\n",
    "\n",
    "- `대기중(pending)`: 초기 상태, 성공 또는 실패 상태로 넘어갈 수 있다.\n",
    "- `성공(fulfilled)`: 연산이 성공적으로 완료된 상태.\n",
    "- `실패(rejected)`: 연산이 실패한 경우\n",
    "\n",
    "대기가 끝나고 할 일은 callback 함수의 형태로 주며, 성공시에는 `.then()`, 오류가 발생할 때는 `.catch()`에 주어진 함수가 실행된다.\n",
    "또는 문법 설탕인 `async` `await` 문법을 사용해 간략화할수 있다."
   ]
  },
  {
   "cell_type": "code",
   "execution_count": 54,
   "metadata": {},
   "outputs": [
    {
     "name": "stdout",
     "output_type": "stream",
     "text": [
      "5\n",
      "5\n",
      "error: Cannot divide by 0\n",
      "error: Cannot divide by 0\n"
     ]
    }
   ],
   "source": [
    "const divide = (n: number, by: number) => \n",
    "    new Promise((resolve, reject) => by === 0 ? reject(\"Cannot divide by 0\") : resolve(n / by))\n",
    "\n",
    "divide(10, 2)\n",
    "    .then(console.log)\n",
    "    .catch((e) => console.log(`error: ${e}`))\n",
    "\n",
    "divide(10, 0)\n",
    "    .then(console.log)\n",
    "    .catch((e) => console.log(`error: ${e}`))\n",
    "\n",
    "console.log(await divide(10, 2))\n",
    "\n",
    "try {\n",
    "    console.log(await divide(10, 0))\n",
    "} catch (e) {\n",
    "    console.log(`error: ${e}`)\n",
    "}"
   ]
  },
  {
   "cell_type": "markdown",
   "metadata": {},
   "source": [
    "### 주의사항 1: 오류 처리\n",
    "\n",
    "`reject()` 메서드를 사용하지 않는다면 오류가 발생한다. 실패할 수 있는 Promise를 사용하는 경우에는 try/catch 구문으로 throw된 오류를 처리하거나 reject 구문을 사용해야 한다."
   ]
  },
  {
   "cell_type": "code",
   "execution_count": 55,
   "metadata": {},
   "outputs": [
    {
     "name": "stdout",
     "output_type": "stream",
     "text": [
      "ok\n",
      "error: fail\n",
      "ok\n",
      "error: fail\n"
     ]
    }
   ],
   "source": [
    "try {\n",
    "    console.log(await Promise.resolve(\"ok\"))\n",
    "    console.log(await Promise.reject(\"fail\"))\n",
    "} catch (e) {\n",
    "    console.log(`error: ${e}`)\n",
    "}\n",
    "\n",
    "console.log(await Promise.resolve(\"ok\").catch((e) => `error: ${e}`))\n",
    "console.log(await Promise.reject(\"fail\").catch((e) => `error: ${e}`))"
   ]
  },
  {
   "cell_type": "markdown",
   "metadata": {},
   "source": [
    "### 주의사항 2: `Promise.all`\n",
    "\n",
    "[Promise.all](https://developer.mozilla.org/en-US/docs/Web/JavaScript/Reference/Global_Objects/Promise/all)은 Promise 이터러블을 받아 모든 Promise가 완료될 때까지 기다린 뒤, 모든 Promise가 완료되면 그 결과를 반환한다. 만약 하나라도 실패하면 그 즉시 실패한 Promise의 결과를 반환한다. 단 하나의 Promise가 실패할지라도 모든 요청이 실패하게 되므로, 실패한 Promise가 있더라도 모든 값을 받아야 하는 경우에는 [`Promise.allSettled`](https://developer.mozilla.org/en-US/docs/Web/JavaScript/Reference/Global_Objects/Promise/allSettled)를 사용해야 한다."
   ]
  },
  {
   "cell_type": "code",
   "execution_count": 56,
   "metadata": {},
   "outputs": [
    {
     "name": "stdout",
     "output_type": "stream",
     "text": [
      "[ \"hello\", 123 ]\n",
      "error: fail\n",
      "[\n",
      "  { status: \"fulfilled\", value: \"hello\" },\n",
      "  { status: \"fulfilled\", value: 123 }\n",
      "]\n",
      "[\n",
      "  { status: \"fulfilled\", value: \"hello\" },\n",
      "  { status: \"fulfilled\", value: 123 },\n",
      "  { status: \"rejected\", reason: \"fail\" }\n",
      "]\n"
     ]
    }
   ],
   "source": [
    "const promises = () => [Promise.resolve(\"hello\"), 123, Promise.reject(\"fail\")]\n",
    "    \n",
    "try {\n",
    "    console.log(await Promise.all(promises().slice(0, 2)))\n",
    "    console.log(await Promise.all(promises()))\n",
    "} catch (e) {\n",
    "    console.log(`error: ${e}`)\n",
    "}\n",
    "\n",
    "console.log(await Promise.allSettled(promises().slice(0, 2)))\n",
    "console.log(await Promise.allSettled(promises()))"
   ]
  }
 ],
 "metadata": {
  "kernelspec": {
   "display_name": "Deno",
   "language": "typescript",
   "name": "deno"
  },
  "language_info": {
   "file_extension": ".ts",
   "mimetype": "text/x.typescript",
   "name": "typescript",
   "nb_converter": "script",
   "pygments_lexer": "typescript",
   "version": "5.2.2"
  },
  "orig_nbformat": 4
 },
 "nbformat": 4,
 "nbformat_minor": 2
}
